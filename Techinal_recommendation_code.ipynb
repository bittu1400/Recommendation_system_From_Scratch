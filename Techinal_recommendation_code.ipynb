{
 "cells": [
  {
   "cell_type": "code",
   "execution_count": 52,
   "id": "3ecdb7ff",
   "metadata": {},
   "outputs": [],
   "source": [
    "# ----------------------------\n",
    "# Movie Class Definition\n",
    "# ----------------------------"
   ]
  },
  {
   "cell_type": "code",
   "execution_count": 53,
   "id": "73bafe93",
   "metadata": {},
   "outputs": [],
   "source": [
    "class Movie:\n",
    "    def __init__(self, index, title, genre, rating, review, advice, influenced, suggested):\n",
    "        self.index = index\n",
    "        self.title = title.strip()\n",
    "        self.genre = genre.strip()\n",
    "        self.rating = float(rating)\n",
    "        self.review = review.lower()\n",
    "        self.advice = advice.lower()\n",
    "        self.influenced = int(influenced)\n",
    "        self.suggested = suggested.strip().lower() == \"yes\""
   ]
  },
  {
   "cell_type": "code",
   "execution_count": 54,
   "id": "1e55ec13",
   "metadata": {},
   "outputs": [],
   "source": [
    "# ----------------------------\n",
    "# Load CSV Dataset Without pandas\n",
    "# ----------------------------"
   ]
  },
  {
   "cell_type": "code",
   "execution_count": 55,
   "id": "deef645f",
   "metadata": {},
   "outputs": [],
   "source": [
    "def parse_csv_line(line):\n",
    "    fields = []\n",
    "    field = ''\n",
    "    in_quotes = False\n",
    "    i = 0\n",
    "    while i < len(line):\n",
    "        char = line[i]\n",
    "        if char == '\"':\n",
    "            if in_quotes and i + 1 < len(line) and line[i + 1] == '\"':\n",
    "                field += '\"'\n",
    "                i += 1  # Skip escaped quote\n",
    "            else:\n",
    "                in_quotes = not in_quotes\n",
    "        elif char == ',' and not in_quotes:\n",
    "            fields.append(field)\n",
    "            field = ''\n",
    "        else:\n",
    "            field += char\n",
    "        i += 1\n",
    "    fields.append(field)\n",
    "    return fields"
   ]
  },
  {
   "cell_type": "code",
   "execution_count": 56,
   "id": "07f7d38d",
   "metadata": {},
   "outputs": [],
   "source": [
    "def load_dataset(filepath):\n",
    "    movies = []\n",
    "    with open(filepath, 'r', encoding='utf-8') as f:\n",
    "        lines = f.readlines()\n",
    "        header = True\n",
    "        index = 0\n",
    "        for line in lines:\n",
    "            if header:\n",
    "                header = False\n",
    "                continue\n",
    "            parts = parse_csv_line(line.strip())\n",
    "            if len(parts) < 7:\n",
    "                continue  # skip malformed rows\n",
    "            title = parts[0]\n",
    "            genre = parts[1]\n",
    "            rating = parts[2]\n",
    "            review = parts[3]\n",
    "            advice = parts[4]\n",
    "            influenced = parts[5]\n",
    "            suggested = parts[6]\n",
    "            try:\n",
    "                movie = Movie(index, title, genre, rating, review, advice, influenced, suggested)\n",
    "                movies.append(movie)\n",
    "                index += 1\n",
    "            except:\n",
    "                continue  # skip rows with bad values\n",
    "    return movies"
   ]
  },
  {
   "cell_type": "code",
   "execution_count": 57,
   "id": "5a14b6da",
   "metadata": {},
   "outputs": [],
   "source": [
    "# ----------------------------\n",
    "# Similarity Function\n",
    "# ----------------------------"
   ]
  },
  {
   "cell_type": "code",
   "execution_count": 58,
   "id": "dc051f55",
   "metadata": {},
   "outputs": [],
   "source": [
    "def compute_similarity(m1, m2):\n",
    "    score = 0\n",
    "\n",
    "    if m1.genre == m2.genre:\n",
    "        score += 5\n",
    "\n",
    "    advice1 = m1.advice.split()\n",
    "    advice2 = m2.advice.split()\n",
    "    review1 = m1.review.split()\n",
    "    review2 = m2.review.split()\n",
    "\n",
    "    advice_overlap = 0\n",
    "    for word in advice1:\n",
    "        if word in advice2:\n",
    "            advice_overlap += 1\n",
    "    score += 2 * advice_overlap\n",
    "\n",
    "    review_overlap = 0\n",
    "    for word in review1:\n",
    "        if word in review2:\n",
    "            review_overlap += 1\n",
    "    score += review_overlap\n",
    "\n",
    "    score -= abs(m1.rating - m2.rating)\n",
    "\n",
    "    if m2.suggested:\n",
    "        score += 2\n",
    "\n",
    "    return score"
   ]
  },
  {
   "cell_type": "code",
   "execution_count": 59,
   "id": "860eb3fe",
   "metadata": {},
   "outputs": [],
   "source": [
    "# ----------------------------\n",
    "# Build Graph as Adjacency List\n",
    "# ----------------------------"
   ]
  },
  {
   "cell_type": "code",
   "execution_count": 60,
   "id": "f0d72323",
   "metadata": {},
   "outputs": [],
   "source": [
    "def build_graph(movies, threshold):\n",
    "    graph = {}\n",
    "    for i in range(len(movies)):\n",
    "        graph[i] = []\n",
    "        for j in range(len(movies)):\n",
    "            if i != j:\n",
    "                score = compute_similarity(movies[i], movies[j])\n",
    "                if score >= threshold:\n",
    "                    graph[i].append((j, score))\n",
    "    return graph"
   ]
  },
  {
   "cell_type": "code",
   "execution_count": 61,
   "id": "fc28b39d",
   "metadata": {},
   "outputs": [],
   "source": [
    "# ----------------------------\n",
    "# Topological Sort\n",
    "# ----------------------------"
   ]
  },
  {
   "cell_type": "code",
   "execution_count": 62,
   "id": "d3bcc626",
   "metadata": {},
   "outputs": [],
   "source": [
    "def topological_sort(graph, num_nodes):\n",
    "    indegree = [0] * num_nodes\n",
    "    for u in graph:\n",
    "        for v, _ in graph[u]:\n",
    "            indegree[v] += 1\n",
    "\n",
    "    queue = []\n",
    "    for i in range(num_nodes):\n",
    "        if indegree[i] == 0:\n",
    "            queue.append(i)\n",
    "\n",
    "    order = []\n",
    "    while queue:\n",
    "        current = queue.pop(0)\n",
    "        order.append(current)\n",
    "        for neighbor, _ in graph.get(current, []):\n",
    "            indegree[neighbor] -= 1\n",
    "            if indegree[neighbor] == 0:\n",
    "                queue.append(neighbor)\n",
    "\n",
    "    return order"
   ]
  },
  {
   "cell_type": "code",
   "execution_count": 63,
   "id": "e20426cb",
   "metadata": {},
   "outputs": [],
   "source": [
    "# ----------------------------\n",
    "# Find Longest Path in DAG\n",
    "# ----------------------------"
   ]
  },
  {
   "cell_type": "code",
   "execution_count": 64,
   "id": "07fb9461",
   "metadata": {},
   "outputs": [],
   "source": [
    "def find_longest_path(movies, graph, start_title):\n",
    "    n = len(movies)\n",
    "    start = -1\n",
    "    for movie in movies:\n",
    "        if movie.title.lower() == start_title.lower():\n",
    "            start = movie.index\n",
    "            break\n",
    "    if start == -1:\n",
    "        return [\"Start movie not found.\"]\n",
    "\n",
    "    order = topological_sort(graph, n)\n",
    "\n",
    "    dist = [-1000000] * n\n",
    "    prev = [-1] * n\n",
    "    dist[start] = 0\n",
    "\n",
    "    for u in order:\n",
    "        for v, weight in graph.get(u, []):\n",
    "            if dist[u] + weight > dist[v]:\n",
    "                dist[v] = dist[u] + weight\n",
    "                prev[v] = u\n",
    "\n",
    "    max_index = start\n",
    "    for i in range(n):\n",
    "        if dist[i] > dist[max_index]:\n",
    "            max_index = i\n",
    "\n",
    "    path = []\n",
    "    while max_index != -1:\n",
    "        path.append(movies[max_index].title)\n",
    "        max_index = prev[max_index]\n",
    "\n",
    "    path.reverse()\n",
    "    return path"
   ]
  },
  {
   "cell_type": "code",
   "execution_count": 65,
   "id": "b56ce212",
   "metadata": {},
   "outputs": [],
   "source": [
    "# ----------------------------\n",
    "# Main Execution\n",
    "# ----------------------------"
   ]
  },
  {
   "cell_type": "code",
   "execution_count": 69,
   "id": "76654431",
   "metadata": {},
   "outputs": [],
   "source": [
    "def main():\n",
    "    filepath = \"Netflix Life Impact Dataset (NLID).csv\"  # Update path if needed\n",
    "    movies = load_dataset(filepath)\n",
    "    threshold = 3.0\n",
    "    graph = build_graph(movies, threshold)\n",
    "\n",
    "    start_title = \"Parasite\"  # <-- CHANGE to your starting movie\n",
    "    path = find_longest_path(movies, graph, start_title)\n",
    "\n",
    "    print(\"Longest recommendation chain:\")\n",
    "    for title in path:\n",
    "        print(\"->\", title)"
   ]
  },
  {
   "cell_type": "code",
   "execution_count": 70,
   "id": "0798ee28",
   "metadata": {},
   "outputs": [
    {
     "name": "stdout",
     "output_type": "stream",
     "text": [
      "Longest recommendation chain:\n",
      "-> Start movie not found.\n"
     ]
    }
   ],
   "source": [
    "# Run\n",
    "main()"
   ]
  },
  {
   "cell_type": "code",
   "execution_count": null,
   "id": "ed2e2327",
   "metadata": {},
   "outputs": [],
   "source": []
  }
 ],
 "metadata": {
  "kernelspec": {
   "display_name": "Python 3 (ipykernel)",
   "language": "python",
   "name": "python3"
  },
  "language_info": {
   "codemirror_mode": {
    "name": "ipython",
    "version": 3
   },
   "file_extension": ".py",
   "mimetype": "text/x-python",
   "name": "python",
   "nbconvert_exporter": "python",
   "pygments_lexer": "ipython3",
   "version": "3.10.12"
  }
 },
 "nbformat": 4,
 "nbformat_minor": 5
}
