{
 "cells": [
  {
   "cell_type": "markdown",
   "metadata": {
    "id": "Yjm_9xbcGQKH"
   },
   "source": [
    "# Searching Exercises\n",
    "This lab covers various searching algorithms."
   ]
  },
  {
   "cell_type": "markdown",
   "metadata": {
    "id": "iSzXsMxxpHet"
   },
   "source": [
    "### Linear Search\n",
    "Linear search (sequential search), is a searching algorithm that sequentially checks each element of a list until it finds the target value or reaches the end of the list.\n",
    "Given the implementation of linear search algorithm."
   ]
  },
  {
   "cell_type": "code",
   "execution_count": 38,
   "metadata": {
    "id": "MWOL1o7EhSNC"
   },
   "outputs": [],
   "source": [
    "def linear_search(lst, target):\n",
    "    for i, value in enumerate(lst):\n",
    "        if value == target:\n",
    "            # found it!\n",
    "            return i\n",
    "\n",
    "    # if the loop ends, target was not found\n",
    "    return -1\n"
   ]
  },
  {
   "cell_type": "markdown",
   "metadata": {
    "id": "lkY9wYkWHoFX"
   },
   "source": [
    "### Task-1: Linear Search\n",
    "Perform the following tasks\n",
    "1. Add the following print statements to the linear search function as appropriate:\n",
    "\n",
    "\n",
    "    print('Searching for the target', repr(target))\n",
    "\n",
    "    print('The value at index', i, 'is', repr(value))\n",
    "    \n",
    "    print('The value equals the target')\n",
    "\n",
    "    print('The value does not equal the target')\n",
    "\n",
    "    print('The target was not found')\n",
    "\n",
    "  Using ['the', 'cat', 'sat', 'on', 'the', 'mat'] as the input list, record the output when searching for 'on', 'dog' and 'the'.\n",
    "  \n",
    "  Use the interactive linear search model to check your results."
   ]
  },
  {
   "cell_type": "code",
   "execution_count": 39,
   "metadata": {
    "id": "9bSg8F4FoOPa"
   },
   "outputs": [],
   "source": [
    "# Task -1 : Linear Search\n",
    "def linear_search(lst, target):\n",
    "    print('searching for the target', repr(target), '\\n')\n",
    "    for i, value in enumerate(lst):\n",
    "        print('The value at index', i, 'is', repr(value))\n",
    "        if value == target:\n",
    "            print('The value equals the target\\n')\n",
    "            return i\n",
    "        print('The value does not equal the target\\n')\n",
    "    print('The target was not found')\n",
    "    return -1\n"
   ]
  },
  {
   "cell_type": "code",
   "execution_count": 40,
   "metadata": {},
   "outputs": [
    {
     "name": "stdout",
     "output_type": "stream",
     "text": [
      "searching for the target 'on' \n",
      "\n",
      "The value at index 0 is 'the'\n",
      "The value does not equal the target\n",
      "\n",
      "The value at index 1 is 'cat'\n",
      "The value does not equal the target\n",
      "\n",
      "The value at index 2 is 'sat'\n",
      "The value does not equal the target\n",
      "\n",
      "The value at index 3 is 'on'\n",
      "The value equals the target\n",
      "\n"
     ]
    },
    {
     "data": {
      "text/plain": [
       "3"
      ]
     },
     "execution_count": 40,
     "metadata": {},
     "output_type": "execute_result"
    }
   ],
   "source": [
    "li = ['the', 'cat', 'sat', 'on', 'the', 'mat']\n",
    "linear_search(li, 'on')"
   ]
  },
  {
   "cell_type": "code",
   "execution_count": 41,
   "metadata": {},
   "outputs": [
    {
     "name": "stdout",
     "output_type": "stream",
     "text": [
      "searching for the target 'dog' \n",
      "\n",
      "The value at index 0 is 'the'\n",
      "The value does not equal the target\n",
      "\n",
      "The value at index 1 is 'cat'\n",
      "The value does not equal the target\n",
      "\n",
      "The value at index 2 is 'sat'\n",
      "The value does not equal the target\n",
      "\n",
      "The value at index 3 is 'on'\n",
      "The value does not equal the target\n",
      "\n",
      "The value at index 4 is 'the'\n",
      "The value does not equal the target\n",
      "\n",
      "The value at index 5 is 'mat'\n",
      "The value does not equal the target\n",
      "\n",
      "The target was not found\n"
     ]
    },
    {
     "data": {
      "text/plain": [
       "-1"
      ]
     },
     "execution_count": 41,
     "metadata": {},
     "output_type": "execute_result"
    }
   ],
   "source": [
    "linear_search(li, 'dog')"
   ]
  },
  {
   "cell_type": "code",
   "execution_count": 42,
   "metadata": {},
   "outputs": [
    {
     "name": "stdout",
     "output_type": "stream",
     "text": [
      "searching for the target 'the' \n",
      "\n",
      "The value at index 0 is 'the'\n",
      "The value equals the target\n",
      "\n"
     ]
    },
    {
     "data": {
      "text/plain": [
       "0"
      ]
     },
     "execution_count": 42,
     "metadata": {},
     "output_type": "execute_result"
    }
   ],
   "source": [
    "linear_search(li, 'the')"
   ]
  },
  {
   "cell_type": "markdown",
   "metadata": {
    "id": "2U1D6_N3oePO"
   },
   "source": [
    "### Binary Search\n",
    "Binary searches are different to linear searches because instead of going in order through a list this algorithm jumps by dividing list intervals into 2, hence the name binary. Binary searches require a list to be in order (doesn’t matter if increasing or decreasing).Given the implementation of Binary search algorithm."
   ]
  },
  {
   "cell_type": "code",
   "execution_count": 43,
   "metadata": {
    "id": "_v9ttrXS3qZV"
   },
   "outputs": [],
   "source": [
    "def binary_search(lst, target):\n",
    "    left = 0\n",
    "    right = len(lst) - 1\n",
    "\n",
    "    # while the range isn't empty\n",
    "    while left <= right:\n",
    "        # integer division rounds down\n",
    "        middle = (left + right) // 2\n",
    "        value = lst[middle]\n",
    "\n",
    "        if value == target:\n",
    "            # found it!\n",
    "            return middle\n",
    "        elif value < target:\n",
    "            # too small, shrink the left boundary\n",
    "            left = middle + 1\n",
    "        else:\n",
    "            # too big, shrink the right boundary\n",
    "            right = middle - 1\n",
    "\n",
    "    # if the loop ends, the range is empty, so target was not found\n",
    "    return -1\n",
    "\n",
    "\n",
    "def binsearch(lst, target, left = 0, right = None):\n",
    "    if right is None:\n",
    "        right = len(lst) - 1\n",
    "    \n",
    "    if left > right:\n",
    "        return -1\n",
    "    \n",
    "    middle = (left + right) // 2\n",
    "    value = lst[middle]\n",
    "\n",
    "    if value == target:\n",
    "        # found it!\n",
    "        return middle\n",
    "    elif value < target:\n",
    "        return binsearch(lst, target, middle + 1, right)\n",
    "    else:\n",
    "        return binsearch(lst, target, left, middle - 1)\n",
    "            \n",
    "    return -1"
   ]
  },
  {
   "cell_type": "markdown",
   "metadata": {
    "id": "4Xmg8u3Zq6Vv"
   },
   "source": [
    "### Task-2: Binary Search\n",
    "\n",
    "Perform the following tasks\n",
    "2. Add the following print statements to the binary search function as appropriate:\n",
    "\n",
    "   \n",
    "    print('Searching for the target', repr(target))\n",
    "    print('The range is from', left, 'to', right)\n",
    "    print('The value at index', middle, 'is', repr(value))\n",
    "    print('The value equals the target')\n",
    "    print('The value is less than the target')\n",
    "    print('The value is greater than the target')\n",
    "    print('The target was not found')\n",
    "\n",
    "Using ['all', 'bob', 'can', 'do', 'is', 'nap', 'zzz'] as the input list, record the output when searching for 'is', 'bob' and 'sleep'.\n",
    "\n",
    "Use the interactive binary search model to check your results."
   ]
  },
  {
   "cell_type": "code",
   "execution_count": 44,
   "metadata": {
    "id": "d-7BqXvHrGn8"
   },
   "outputs": [],
   "source": [
    "# Task -2 : Binary Search\n",
    "def binary_search(lst, target):\n",
    "    left = 0\n",
    "    right = len(lst) - 1\n",
    "    print('Searching for the target', repr(target), '\\n')\n",
    "    \n",
    "    while left <= right:\n",
    "        print('The range is from', left, 'to', right, '\\n')\n",
    "        middle = (left + right) // 2\n",
    "        value = lst[middle]\n",
    "        print('The value at index', middle, 'is', repr(value))\n",
    "        \n",
    "        if value == target:\n",
    "            print('The value equals the target', '\\n')\n",
    "            return middle\n",
    "        elif value < target:\n",
    "            print('The value is less than the target', '\\n')\n",
    "            left = middle + 1\n",
    "        else:\n",
    "            print('The value is greater than the target', '\\n')\n",
    "            right = middle - 1\n",
    "    \n",
    "    print('The target was not found')\n",
    "    return -1\n",
    "\n",
    "\n",
    "def binsearch(lst, target, left = 0, right = None):\n",
    "    print('Searching for the target', repr(target), '\\n')\n",
    "    \n",
    "    if right is None:\n",
    "        right = len(lst) - 1\n",
    "    \n",
    "    print('The range is from', left, 'to', right, '\\n')\n",
    "\n",
    "    if left > right:\n",
    "        return -1\n",
    "    \n",
    "    middle = (left + right) // 2\n",
    "    value = lst[middle]\n",
    "    print('The value at index', middle, 'is', repr(value))\n",
    "\n",
    "    if value == target:\n",
    "        # found it!\n",
    "        print('The value equals the target', '\\n')\n",
    "        return middle\n",
    "    elif value < target:\n",
    "        print('The value is less than the target', '\\n')\n",
    "        return binsearch(lst, target, middle + 1, right)\n",
    "    else:\n",
    "        print('The value is greater than the target', '\\n')\n",
    "        return binsearch(lst, target, left, middle - 1)\n",
    "     \n",
    "    print('The target was not found')\n",
    "    return -1"
   ]
  },
  {
   "cell_type": "code",
   "execution_count": 45,
   "metadata": {},
   "outputs": [
    {
     "name": "stdout",
     "output_type": "stream",
     "text": [
      "### Without recursion\n",
      "\n",
      "Searching for the target 'is' \n",
      "\n",
      "The range is from 0 to 6 \n",
      "\n",
      "The value at index 3 is 'do'\n",
      "The value is less than the target \n",
      "\n",
      "The range is from 4 to 6 \n",
      "\n",
      "The value at index 5 is 'nap'\n",
      "The value is greater than the target \n",
      "\n",
      "The range is from 4 to 4 \n",
      "\n",
      "The value at index 4 is 'is'\n",
      "The value equals the target \n",
      "\n",
      "\n",
      "\n",
      "\n",
      "### With recursion\n",
      "\n",
      "Searching for the target 'is' \n",
      "\n",
      "The range is from 0 to 6 \n",
      "\n",
      "The value at index 3 is 'do'\n",
      "The value is less than the target \n",
      "\n",
      "Searching for the target 'is' \n",
      "\n",
      "The range is from 4 to 6 \n",
      "\n",
      "The value at index 5 is 'nap'\n",
      "The value is greater than the target \n",
      "\n",
      "Searching for the target 'is' \n",
      "\n",
      "The range is from 4 to 4 \n",
      "\n",
      "The value at index 4 is 'is'\n",
      "The value equals the target \n",
      "\n",
      "4\n"
     ]
    }
   ],
   "source": [
    "li = ['all', 'bob', 'can', 'do', 'is', 'nap', 'zzz']\n",
    "\n",
    "print('### Without recursion\\n')\n",
    "binary_search(li, 'is')\n",
    "print('\\n\\n\\n### With recursion\\n')\n",
    "print(binsearch(li, 'is'))"
   ]
  },
  {
   "cell_type": "code",
   "execution_count": 46,
   "metadata": {},
   "outputs": [
    {
     "name": "stdout",
     "output_type": "stream",
     "text": [
      "### Without recursion\n",
      "\n",
      "Searching for the target 'bob' \n",
      "\n",
      "The range is from 0 to 6 \n",
      "\n",
      "The value at index 3 is 'do'\n",
      "The value is greater than the target \n",
      "\n",
      "The range is from 0 to 2 \n",
      "\n",
      "The value at index 1 is 'bob'\n",
      "The value equals the target \n",
      "\n",
      "\n",
      "\n",
      "\n",
      "### With recursion\n",
      "\n",
      "Searching for the target 'bob' \n",
      "\n",
      "The range is from 0 to 6 \n",
      "\n",
      "The value at index 3 is 'do'\n",
      "The value is greater than the target \n",
      "\n",
      "Searching for the target 'bob' \n",
      "\n",
      "The range is from 0 to 2 \n",
      "\n",
      "The value at index 1 is 'bob'\n",
      "The value equals the target \n",
      "\n",
      "1\n"
     ]
    }
   ],
   "source": [
    "print('### Without recursion\\n')\n",
    "binary_search(li, 'bob')\n",
    "print('\\n\\n\\n### With recursion\\n')\n",
    "print(binsearch(li, 'bob'))"
   ]
  },
  {
   "cell_type": "code",
   "execution_count": 47,
   "metadata": {},
   "outputs": [
    {
     "name": "stdout",
     "output_type": "stream",
     "text": [
      "### Without recursion\n",
      "\n",
      "Searching for the target 'sleep' \n",
      "\n",
      "The range is from 0 to 6 \n",
      "\n",
      "The value at index 3 is 'do'\n",
      "The value is less than the target \n",
      "\n",
      "The range is from 4 to 6 \n",
      "\n",
      "The value at index 5 is 'nap'\n",
      "The value is less than the target \n",
      "\n",
      "The range is from 6 to 6 \n",
      "\n",
      "The value at index 6 is 'zzz'\n",
      "The value is greater than the target \n",
      "\n",
      "The target was not found\n",
      "\n",
      "\n",
      "\n",
      "### With recursion\n",
      "\n",
      "Searching for the target 'sleep' \n",
      "\n",
      "The range is from 0 to 6 \n",
      "\n",
      "The value at index 3 is 'do'\n",
      "The value is less than the target \n",
      "\n",
      "Searching for the target 'sleep' \n",
      "\n",
      "The range is from 4 to 6 \n",
      "\n",
      "The value at index 5 is 'nap'\n",
      "The value is less than the target \n",
      "\n",
      "Searching for the target 'sleep' \n",
      "\n",
      "The range is from 6 to 6 \n",
      "\n",
      "The value at index 6 is 'zzz'\n",
      "The value is greater than the target \n",
      "\n",
      "Searching for the target 'sleep' \n",
      "\n",
      "The range is from 6 to 5 \n",
      "\n",
      "-1\n"
     ]
    }
   ],
   "source": [
    "print('### Without recursion\\n')\n",
    "binary_search(li, 'sleep')\n",
    "print('\\n\\n\\n### With recursion\\n')\n",
    "print(binsearch(li, 'sleep'))"
   ]
  },
  {
   "cell_type": "markdown",
   "metadata": {
    "id": "Y0J9crl5Jso9"
   },
   "source": [
    "### User List\n",
    "The following Python code defines a class User and creates a list of users:"
   ]
  },
  {
   "cell_type": "code",
   "execution_count": 48,
   "metadata": {
    "id": "26Zw-oPTJuKl"
   },
   "outputs": [],
   "source": [
    "class User:\n",
    "    def __init__(self, id_number, name):\n",
    "        self.id_number = id_number\n",
    "        self.name = name\n",
    "    def __repr__(self):\n",
    "        fmt = 'User({!r}, {!r})'\n",
    "        return fmt.format(self.id_number, self.name)\n",
    "\n",
    "users = [\n",
    "    User(12, 'Waylon Dalton'),\n",
    "    User(15, 'Justine Henderson'),\n",
    "    User(20, 'Abdullah Lang'),\n",
    "    User(45, 'Thalia Cobb'),\n",
    "    User(46, 'Mathias Little'),\n",
    "    User(51, 'Eddie Randolph'),\n",
    "    User(60, 'Angela Walker'),\n",
    "    User(63, 'Lia Shelton'),\n",
    "    User(72, 'Hadassah Hartman'),\n",
    "    User(78, 'Joanna Shaffer'),\n",
    "    User(95, 'Jonathon Sheppard')\n",
    "]\n"
   ]
  },
  {
   "cell_type": "markdown",
   "metadata": {
    "id": "WmAhKOOnKuxc"
   },
   "source": [
    "### Task-3: Searching a user from user list\n",
    "3. It is required to search for users either by name or by ID number.\n",
    "\n",
    "    a. Write a function using the linear search algorithm to search by name.\n",
    "        The list is ordered by ID number.\n",
    "\n",
    "    b. Write a function using the binary search algorithm to search by ID number.\n",
    "        Your functions should return the User object found by the search, or None if the search is unsuccessful."
   ]
  },
  {
   "cell_type": "code",
   "execution_count": 69,
   "metadata": {
    "id": "5GG9mBAnKyBB"
   },
   "outputs": [],
   "source": [
    "# Task -3 : Search a user from user list\n",
    "\n",
    "def is_name(li, name): # Linear Search\n",
    "    print(\"Searching for:\", repr(name))\n",
    "    for i, value in enumerate(li):\n",
    "        print('')\n",
    "        if name == value.name:\n",
    "            print('The value equals the target at', i)\n",
    "            print('--------------------------')\n",
    "            return value\n",
    "        else:\n",
    "            print('The target was not found at index', i)\n",
    "            print('--------------------------')\n",
    "    return None\n",
    "\n",
    "def is_in(li, name): # Binary Search\n",
    "    print(\"Searching for:\", repr(name))\n",
    "    name_li = sorted(li, key=lambda user: user.name)\n",
    "    start = 0\n",
    "    end = len(name_li) - 1\n",
    "    print('--------------------------')\n",
    "\n",
    "    count = 0\n",
    "    while start <= end:\n",
    "        mid = (start + end) // 2\n",
    "        if name_li[mid].name == name:\n",
    "            print('The value equals the target at', count)\n",
    "            print('--------------------------')\n",
    "            return name_li[mid]\n",
    "        elif name_li[mid].name < name:\n",
    "            print('The target was not found at index', count)\n",
    "            print('--------------------------')\n",
    "            start = mid + 1\n",
    "            count += 1\n",
    "        else:\n",
    "            print('The target was not found at index', count)\n",
    "            print('--------------------------')\n",
    "            end = mid - 1\n",
    "            count += 1\n",
    "            \n",
    "    return None"
   ]
  },
  {
   "cell_type": "code",
   "execution_count": 70,
   "metadata": {},
   "outputs": [
    {
     "name": "stdout",
     "output_type": "stream",
     "text": [
      "Searching for: 'me'\n",
      "\n",
      "The target was not found at index 0\n",
      "--------------------------\n",
      "\n",
      "The target was not found at index 1\n",
      "--------------------------\n",
      "\n",
      "The target was not found at index 2\n",
      "--------------------------\n",
      "\n",
      "The target was not found at index 3\n",
      "--------------------------\n",
      "\n",
      "The target was not found at index 4\n",
      "--------------------------\n",
      "\n",
      "The target was not found at index 5\n",
      "--------------------------\n",
      "\n",
      "The target was not found at index 6\n",
      "--------------------------\n",
      "\n",
      "The target was not found at index 7\n",
      "--------------------------\n",
      "\n",
      "The target was not found at index 8\n",
      "--------------------------\n",
      "\n",
      "The target was not found at index 9\n",
      "--------------------------\n",
      "\n",
      "The target was not found at index 10\n",
      "--------------------------\n",
      "None\n"
     ]
    }
   ],
   "source": [
    "print(is_name(users, 'me'))"
   ]
  },
  {
   "cell_type": "code",
   "execution_count": 71,
   "metadata": {},
   "outputs": [
    {
     "name": "stdout",
     "output_type": "stream",
     "text": [
      "Searching for: 'me'\n",
      "--------------------------\n",
      "The target was not found at index 0\n",
      "--------------------------\n",
      "The target was not found at index 1\n",
      "--------------------------\n",
      "The target was not found at index 2\n",
      "--------------------------\n",
      "The target was not found at index 3\n",
      "--------------------------\n",
      "None\n"
     ]
    }
   ],
   "source": [
    "print(is_in(users, 'me'))"
   ]
  },
  {
   "cell_type": "code",
   "execution_count": 72,
   "metadata": {},
   "outputs": [
    {
     "name": "stdout",
     "output_type": "stream",
     "text": [
      "Searching for: 'Thalia Cobb'\n",
      "\n",
      "The target was not found at index 0\n",
      "--------------------------\n",
      "\n",
      "The target was not found at index 1\n",
      "--------------------------\n",
      "\n",
      "The target was not found at index 2\n",
      "--------------------------\n",
      "\n",
      "The value equals the target at 3\n",
      "--------------------------\n",
      "User(45, 'Thalia Cobb')\n"
     ]
    }
   ],
   "source": [
    "print(is_name(users, 'Thalia Cobb'))"
   ]
  },
  {
   "cell_type": "code",
   "execution_count": 73,
   "metadata": {},
   "outputs": [
    {
     "name": "stdout",
     "output_type": "stream",
     "text": [
      "Searching for: 'Eddie Randolph'\n",
      "--------------------------\n",
      "The target was not found at index 0\n",
      "--------------------------\n",
      "The value equals the target at 1\n",
      "--------------------------\n",
      "User(51, 'Eddie Randolph')\n"
     ]
    }
   ],
   "source": [
    "print(is_in(users, 'Eddie Randolph'))"
   ]
  },
  {
   "cell_type": "markdown",
   "metadata": {
    "id": "hgNtkdYDL-zb"
   },
   "source": [
    "### Searching Trees\n",
    "Before attempting these exercises, you should read the posts on depth-first search (DFS) and breadth-first search (BFS).\n",
    "\n",
    "4. The following Python code defines a tree using the list-of-children data structure:\n",
    "\n",
    "### Task-4: Searching Trees"
   ]
  },
  {
   "cell_type": "code",
   "execution_count": 54,
   "metadata": {
    "id": "o-1tDXFoMCi_"
   },
   "outputs": [],
   "source": [
    "class Node:\n",
    "    def __init__(self, value, children=None):\n",
    "        if children is None:\n",
    "            children = []\n",
    "        self.value = value\n",
    "        self.children = children\n",
    "    def __repr__(self):\n",
    "        if self.children:\n",
    "            fmt = 'Node({!r}, {!r})'\n",
    "        else:\n",
    "            fmt = 'Node({!r})'\n",
    "        return fmt.format(self.value, self.children)\n",
    "\n",
    "# Tree\n",
    "root_node = Node(8, [\n",
    "    Node(4, [\n",
    "        Node(3),\n",
    "        Node(6)\n",
    "    ]),\n",
    "    Node(9),\n",
    "    Node(10, [\n",
    "         Node(7)\n",
    "    ]),\n",
    "    Node(11)\n",
    "])"
   ]
  },
  {
   "cell_type": "markdown",
   "metadata": {
    "id": "Vp8iipI5MOVC"
   },
   "source": [
    "          \n",
    "  a. Write down the order in which the nodes would be visited by DFS.\n",
    "  \n",
    "  b. Write down the order in which the nodes would be visited by BFS.\n",
    "  \n",
    "  c. Modify the recursive DFS and BFS functions by adding the following print statement when a node is visited:\n",
    "    \n",
    "    print('Visiting node', node.value)\n",
    "  Check your answers to 1. and 2. against your functions’ output.\n",
    "  \n",
    "  d. Modify the iterative DFS function in the same way.\n",
    "  \n",
    "  Notice that the nodes are not visited in the same order as the recursive DFS function — why not?\n",
    "  \n",
    "  How would you change iterative DFS so that it does?"
   ]
  },
  {
   "cell_type": "markdown",
   "metadata": {
    "id": "SKHZFJXAhfe2"
   },
   "source": [
    "Example search node  (6)\n",
    "\n",
    "You can try searching for different node"
   ]
  },
  {
   "cell_type": "code",
   "execution_count": 55,
   "metadata": {
    "colab": {
     "base_uri": "https://localhost:8080/"
    },
    "id": "1qdv27P-MHVm",
    "outputId": "18ceb2b7-f30d-46a7-f3b0-2e58bd768a7d"
   },
   "outputs": [
    {
     "name": "stdout",
     "output_type": "stream",
     "text": [
      "*** DFS - Recursive ***\n",
      "The returned node is  Node(6)\n",
      "The value of the returned node is  6\n",
      "*** DFS - Iterative ***\n",
      "The returned node is  Node(6)\n",
      "The value of the returned node is  6\n",
      "*** BFS - Recursive ***\n",
      "The returned node is  Node(6)\n",
      "The value of the returned node is  6\n"
     ]
    }
   ],
   "source": [
    "def depth_first_search(node, target):\n",
    "  # check the root node first\n",
    "  if node.value==target:\n",
    "    return node\n",
    "\n",
    "  # search recursively in the child subtrees\n",
    "  for child in node.children:\n",
    "    found = depth_first_search(child, target)\n",
    "    if found:\n",
    "      # 'go home early'\n",
    "      return found\n",
    "\n",
    "  # 'go home late'\n",
    "  return None\n",
    "\n",
    "def iterative_dfs(root_node, target):\n",
    "  # create a stack of nodes to visit\n",
    "  nodes_to_visit = [root_node]\n",
    "\n",
    "  while nodes_to_visit:\n",
    "    # visit the next node\n",
    "    node = nodes_to_visit.pop()\n",
    "\n",
    "    if node.value == target:\n",
    "      # found it!\n",
    "      return node\n",
    "\n",
    "    # make sure we visit the child nodes\n",
    "    for child in node.children:\n",
    "      nodes_to_visit.append(child)\n",
    "\n",
    "  # no more nodes to visit, target wasn't found\n",
    "  return None\n",
    "\n",
    "from collections import deque\n",
    "\n",
    "def breadth_first_search(root_node, target):\n",
    "  # create a queue of nodes to visit\n",
    "  nodes_to_visit = deque([root_node])\n",
    "\n",
    "  while nodes_to_visit:\n",
    "    # visit the next node\n",
    "    node = nodes_to_visit.popleft()\n",
    "\n",
    "    if node.value == target:\n",
    "      # found it!\n",
    "      return node\n",
    "\n",
    "    # make sure we isit the child nodes\n",
    "    for child in node.children:\n",
    "      nodes_to_visit.append(child)\n",
    "\n",
    "  # no more nodes to visit, target wasn't found\n",
    "  return None\n",
    "\n",
    "# Search for node 6\n",
    "search_node = 6\n",
    "\n",
    "print(\"*** DFS - Recursive ***\")\n",
    "returnedNode = depth_first_search(root_node, search_node)\n",
    "print(\"The returned node is \", returnedNode)\n",
    "print(\"The value of the returned node is \", returnedNode.value)\n",
    "\n",
    "print(\"*** DFS - Iterative ***\")\n",
    "returnedNode = iterative_dfs(root_node, search_node)\n",
    "print(\"The returned node is \", returnedNode)\n",
    "print(\"The value of the returned node is \", returnedNode.value)\n",
    "\n",
    "print(\"*** BFS - Recursive ***\")\n",
    "returnedNode = breadth_first_search(root_node, search_node)\n",
    "print(\"The returned node is \", returnedNode)\n",
    "print(\"The value of the returned node is \", returnedNode.value)"
   ]
  }
 ],
 "metadata": {
  "colab": {
   "provenance": []
  },
  "kernelspec": {
   "display_name": "Python 3 (ipykernel)",
   "language": "python",
   "name": "python3"
  },
  "language_info": {
   "codemirror_mode": {
    "name": "ipython",
    "version": 3
   },
   "file_extension": ".py",
   "mimetype": "text/x-python",
   "name": "python",
   "nbconvert_exporter": "python",
   "pygments_lexer": "ipython3",
   "version": "3.11.5"
  }
 },
 "nbformat": 4,
 "nbformat_minor": 1
}
