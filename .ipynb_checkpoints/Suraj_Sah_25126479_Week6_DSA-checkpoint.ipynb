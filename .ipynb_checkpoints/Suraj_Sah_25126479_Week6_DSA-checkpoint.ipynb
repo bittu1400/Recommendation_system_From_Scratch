{
 "cells": [
  {
   "cell_type": "code",
   "execution_count": 72,
   "id": "d6d230c6",
   "metadata": {},
   "outputs": [],
   "source": [
    "#### Exercise 1\n",
    "\n",
    "# i) Write a python function that calculates the Factorial of a given number recursively. "
   ]
  },
  {
   "cell_type": "code",
   "execution_count": 73,
   "id": "b3f47e45",
   "metadata": {},
   "outputs": [],
   "source": [
    "def factorial(num):\n",
    "    if num == 0 or num == 1:\n",
    "        return 1\n",
    "    else:\n",
    "        return num* factorial(num-1)"
   ]
  },
  {
   "cell_type": "code",
   "execution_count": 74,
   "id": "2fc8ce50",
   "metadata": {},
   "outputs": [
    {
     "data": {
      "text/plain": [
       "720"
      ]
     },
     "execution_count": 74,
     "metadata": {},
     "output_type": "execute_result"
    }
   ],
   "source": [
    "factorial(6)"
   ]
  },
  {
   "cell_type": "code",
   "execution_count": 75,
   "id": "32c91bd3",
   "metadata": {},
   "outputs": [],
   "source": [
    "# ii) Stack call for 6\n",
    "#    Note: factorial is refered to as f                                Finally we get the one value we needed\n",
    "#                                 |                          |              Now, all the f(num) is solved \n",
    "#                                 |  Since the num is 1      |                  in order to get the answer we need\n",
    "#                                 |    hence                 |<--|\n",
    "#                                 |      value of f(1) is 1  |   |\n",
    "#                                 |__________________________|   |\n",
    "#                                 |  num = 2                 |   |\n",
    "#                             |-->|    2 * f( 2 - 1) = f(1)  |---|\n",
    "#                             |   |__________________________|     With the pre-set condition of the value of 1 being 1,\n",
    "#                             |   |  num = 3                 |        we can finally do the jobs\n",
    "#  Without the compute        |---|    3 * f( 3 - 1) = f(2)  |<--|       that were previously put on hold.\n",
    "#   knowing the value of          |__________________________|   |\n",
    "#    factorial 5 first how        |  num = 4                 |   |\n",
    "#     can it multiply the two |-->|    4 * f( 4 - 1) = f(3)  |---|\n",
    "#      so it proceeds to find |   |__________________________|\n",
    "#       it first.             |   |  num = 5                 |\n",
    "#                             |---|    5 * f( 5 - 1) = f(4)  |<--|6 multiply factorial of 5 is what we need but,\n",
    "#                                 |__________________________|   |  Since it doesn't know the value of factorial 5,\n",
    "#                                 |  num = 6                 |   |      it put this multiply on hold and try to find\n",
    "#     first the stack             |    6 * f( 6 - 1) = f(5)  |---|         the value of factorial 5 first.\n",
    "#          starts from here   ->  |__________________________|\n"
   ]
  },
  {
   "cell_type": "code",
   "execution_count": 76,
   "id": "19b6e7d9",
   "metadata": {},
   "outputs": [],
   "source": [
    "#### Exercise 2"
   ]
  },
  {
   "cell_type": "code",
   "execution_count": 77,
   "id": "e4ae2049",
   "metadata": {},
   "outputs": [],
   "source": [
    "class Node:\n",
    "    def __init__(self, value, children=None):\n",
    "        # a leaf node has an empty list of childrens\n",
    "        if children is None:\n",
    "            children = []\n",
    "        self.value = value\n",
    "        self.children = children\n",
    "    # (# i answer)\n",
    "    def sum_value(self):\n",
    "        total = self.value\n",
    "        for child in self.children:\n",
    "            total += child.sum_value()\n",
    "        return total"
   ]
  },
  {
   "cell_type": "code",
   "execution_count": 78,
   "id": "4b5655a4",
   "metadata": {},
   "outputs": [],
   "source": [
    "# i) Write a function that calculates sum of all node values of a tree recursively"
   ]
  },
  {
   "cell_type": "code",
   "execution_count": 79,
   "id": "fedbd018",
   "metadata": {},
   "outputs": [],
   "source": [
    "# ii) A tree structure is constructed compromising of various given nodes as:\n",
    "\n",
    "root = Node(1, [\n",
    "    Node(2, [\n",
    "        Node(3, [\n",
    "            Node(4), \n",
    "            Node(5)\n",
    "        ]),\n",
    "        Node(6)\n",
    "    ]),\n",
    "    Node(7, [\n",
    "        Node(8, [\n",
    "            Node(9)\n",
    "        ])\n",
    "    ]),\n",
    "    Node(10)\n",
    "])\n",
    "\n"
   ]
  },
  {
   "cell_type": "code",
   "execution_count": 80,
   "id": "13ce0448",
   "metadata": {},
   "outputs": [
    {
     "data": {
      "text/plain": [
       "55"
      ]
     },
     "execution_count": 80,
     "metadata": {},
     "output_type": "execute_result"
    }
   ],
   "source": [
    "root.sum_value()"
   ]
  },
  {
   "cell_type": "code",
   "execution_count": 81,
   "id": "632dfc72",
   "metadata": {},
   "outputs": [],
   "source": [
    "# Lab Submission Exercise \n",
    "# Exercise 3\n",
    "# Consider the following Python code\n",
    "# The Node class for a tree ADT is define in list-of-children representation as:\n",
    "\n",
    "class Node:\n",
    "    def __init__(self, value, children=None):\n",
    "        # a leaf node has an empty list of childrens\n",
    "        if children is None:\n",
    "            children = []\n",
    "        self.value = value\n",
    "        self.children = children\n",
    "        \n",
    "root = Node(1, [\n",
    "    Node(2, [\n",
    "        Node(3, [\n",
    "            Node(4), \n",
    "            Node(5)\n",
    "        ]),\n",
    "        Node(6)\n",
    "    ]),\n",
    "    Node(7, [\n",
    "        Node(8, [\n",
    "            Node(9)\n",
    "        ])\n",
    "    ]),\n",
    "    Node(10)\n",
    "])\n",
    "    \n",
    "        "
   ]
  },
  {
   "cell_type": "code",
   "execution_count": 82,
   "id": "3c4ae2d5",
   "metadata": {},
   "outputs": [],
   "source": [
    "# i) Write a function that calculates number of nodes (size) of a tree recursively."
   ]
  },
  {
   "cell_type": "code",
   "execution_count": 83,
   "id": "5f517c19",
   "metadata": {},
   "outputs": [],
   "source": [
    "\n",
    "class Node:\n",
    "    def __init__(self, value, children=None):\n",
    "        # a leaf node has an empty list of childrens\n",
    "        if children is None:\n",
    "            children = []\n",
    "        self.value = value\n",
    "        self.children = children\n",
    "        \n",
    "    def len_num(self):\n",
    "        total = 1\n",
    "        for child in self.children:\n",
    "            total += child.len_num()\n",
    "        return total"
   ]
  },
  {
   "cell_type": "code",
   "execution_count": 84,
   "id": "80c7f37a",
   "metadata": {},
   "outputs": [],
   "source": [
    "# ii) Write a function that calculates height of a tree recursively."
   ]
  },
  {
   "cell_type": "code",
   "execution_count": 85,
   "id": "cc7a268d",
   "metadata": {},
   "outputs": [],
   "source": [
    "\n",
    "class Node:\n",
    "    def __init__(self, value, children=None):\n",
    "        # a leaf node has an empty list of childrens\n",
    "        if children is None:\n",
    "            children = []\n",
    "        self.value = value\n",
    "        self.children = children\n",
    "        \n",
    "    def len_num(self):\n",
    "        total = 1\n",
    "        for child in self.children:\n",
    "            total += child.len_num()\n",
    "        return total\n",
    "    \n",
    "    def height(self):\n",
    "        if not self.children:\n",
    "            return 1\n",
    "        else:\n",
    "            return 1 + max(child.height() for child in self.children)"
   ]
  },
  {
   "cell_type": "code",
   "execution_count": 86,
   "id": "e3449291",
   "metadata": {},
   "outputs": [],
   "source": [
    "root = Node(1, [\n",
    "    Node(2, [\n",
    "        Node(3, [\n",
    "            Node(4), \n",
    "            Node(5)\n",
    "        ]),\n",
    "        Node(6)\n",
    "    ]),\n",
    "    Node(7, [\n",
    "        Node(8, [\n",
    "            Node(9)\n",
    "        ])\n",
    "    ]),\n",
    "    Node(10)\n",
    "])"
   ]
  },
  {
   "cell_type": "code",
   "execution_count": 87,
   "id": "0ef1cfbd",
   "metadata": {},
   "outputs": [
    {
     "data": {
      "text/plain": [
       "10"
      ]
     },
     "execution_count": 87,
     "metadata": {},
     "output_type": "execute_result"
    }
   ],
   "source": [
    "root.len_num()"
   ]
  },
  {
   "cell_type": "code",
   "execution_count": 88,
   "id": "1cb28011",
   "metadata": {},
   "outputs": [
    {
     "data": {
      "text/plain": [
       "4"
      ]
     },
     "execution_count": 88,
     "metadata": {},
     "output_type": "execute_result"
    }
   ],
   "source": [
    "root.height()"
   ]
  },
  {
   "cell_type": "code",
   "execution_count": null,
   "id": "55dcab09",
   "metadata": {},
   "outputs": [],
   "source": []
  }
 ],
 "metadata": {
  "kernelspec": {
   "display_name": "Python 3 (ipykernel)",
   "language": "python",
   "name": "python3"
  },
  "language_info": {
   "codemirror_mode": {
    "name": "ipython",
    "version": 3
   },
   "file_extension": ".py",
   "mimetype": "text/x-python",
   "name": "python",
   "nbconvert_exporter": "python",
   "pygments_lexer": "ipython3",
   "version": "3.11.5"
  }
 },
 "nbformat": 4,
 "nbformat_minor": 5
}
